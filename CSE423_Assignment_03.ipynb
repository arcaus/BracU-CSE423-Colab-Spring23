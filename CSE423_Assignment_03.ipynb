{
  "cells": [
    {
      "cell_type": "code",
      "execution_count": null,
      "metadata": {
        "colab": {
          "base_uri": "https://localhost:8080/"
        },
        "id": "YXv13t34XX7o",
        "outputId": "416d1359-1fd3-45b6-ed1e-86edda782df4"
      },
      "outputs": [
        {
          "name": "stdout",
          "output_type": "stream",
          "text": [
            "b'4.4.0 NVIDIA 000.00'\n",
            "b'NVIDIA Corporation'\n"
          ]
        }
      ],
      "source": [
        "import math\n",
        "import random\n",
        "import numpy as np\n",
        "import ctypes.util\n",
        "from lucid.misc.gl.glcontext import create_opengl_context\n",
        "\n",
        "# Now it's safe to import OpenGL and EGL functions\n",
        "import OpenGL.GL as gl\n",
        "from OpenGL.GLU import *\n",
        "\n",
        "# create_opengl_context() creates GL context that is attached to an\n",
        "# offscreen surface of specified size. Note that rendering to buffers\n",
        "# of different size and format is still possible with OpenGL Framebuffers.\n",
        "#\n",
        "# Users are expected to directly use EGL calls in case more advanced\n",
        "# context management is required.\n",
        "WIDTH, HEIGHT = 800,600\n",
        "create_opengl_context((WIDTH, HEIGHT))\n",
        "    \n",
        "# OpenGL context is available here.\n",
        "\n",
        "print(gl.glGetString(gl.GL_VERSION))\n",
        "print(gl.glGetString(gl.GL_VENDOR)) \n",
        "#print(gl.glGetString(gl.GL_EXTENSIONS))"
      ]
    },
    {
      "cell_type": "code",
      "execution_count": null,
      "metadata": {
        "id": "ANi7Wf-hbL9Y"
      },
      "outputs": [],
      "source": [
        "def addVertex(x,y):\n",
        "    gl.glVertex2f(x/(WIDTH/2),y/(HEIGHT/2))\n",
        "\n",
        "def addColor(r,g,b):\n",
        "    gl.glColor3f(r/255,g/255,b/255)\n",
        "\n",
        "def drawCircle(x1, y1, x2, y2):\n",
        "    gl.glBegin(gl.GL_POINTS)\n",
        "\n",
        "    addVertex(x1 + x2, y1 + y2)\n",
        "    addVertex(y1 + x2, x1 + y2)\n",
        "    addVertex(y1 + x2, -x1 + y2)\n",
        "    addVertex(x1 + x2, -y1 + y2)\n",
        "    addVertex(-y1 + x2, x1 + y2)\n",
        "    addVertex(-x1 + x2, y1 + y2)\n",
        "    addVertex(-x1 + x2, -y1 + y2)\n",
        "    addVertex(-y1 + x2, -x1 + y2)\n",
        "\n",
        "    gl.glEnd()\n",
        "\n",
        "def midpointCircle(x, y, r, n):\n",
        "    half = r / 2\n",
        "    d = 1 - r\n",
        "    x_def = 0\n",
        "    y_def = r\n",
        "\n",
        "    while x_def < y_def:\n",
        "        x_def += 1\n",
        "        if d < 0:\n",
        "            d += (2*x_def) + 3\n",
        "        else:\n",
        "            d += (2*x_def) - (2*y_def) + 5\n",
        "            y_def -= 1  \n",
        "    \n",
        "        # Outer circle\n",
        "        drawCircle(x_def, y_def, x, y)\n",
        "        # Inner circles\n",
        "        step = 360 // n # angle\n",
        "        for i in range(0, 360, n):\n",
        "            drawCircle(x_def / 2, y_def / 2, x + (half * math.cos(i * math.pi / 180)), y + (half * math.sin(i * math.pi / 180)))\n"
      ]
    },
    {
      "cell_type": "code",
      "execution_count": null,
      "metadata": {
        "colab": {
          "base_uri": "https://localhost:8080/",
          "height": 617
        },
        "id": "e6JCjyDMyE75",
        "outputId": "bcbc7e89-0b48-438d-ee90-d47561299c4f"
      },
      "outputs": [
        {
          "data": {
            "image/png": "[encoded data removed]",
            "text/plain": [
              "<PIL.Image.Image image mode=RGB size=800x600 at 0x7F0C2C7F30A0>"
            ]
          },
          "metadata": {},
          "output_type": "display_data"
        }
      ],
      "source": [
        "from IPython.display import display\n",
        "from PIL import Image\n",
        "\n",
        "gl.glClear(gl.GL_COLOR_BUFFER_BIT)\n",
        "\n",
        "gl.glPointSize(5)\n",
        "addColor(31, 255, 199)\n",
        "x = 0\n",
        "y = 0\n",
        "r = 260\n",
        "n = int(input('Enter number of circles: '))\n",
        "midpointCircle(x, y, r, n)\n",
        "\n",
        "img_buf = gl.glReadPixelsub(0, 0, WIDTH, HEIGHT, gl.GL_RGB, gl.GL_UNSIGNED_BYTE)\n",
        "img = np.frombuffer(img_buf,np.uint8).reshape(HEIGHT, WIDTH, 3)[::-1]\n",
        "display(Image.fromarray(img,'RGB'))\n"
      ]
    }
  ],
  "metadata": {
    "accelerator": "GPU",
    "colab": {
      "provenance": []
    },
    "kernelspec": {
      "display_name": "Python 3",
      "name": "python3"
    },
    "language_info": {
      "name": "python"
    }
  },
  "nbformat": 4,
  "nbformat_minor": 0
}
