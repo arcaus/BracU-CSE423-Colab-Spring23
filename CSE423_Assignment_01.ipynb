{
  "cells": [
    {
      "cell_type": "markdown",
      "metadata": {
        "id": "jUuVqtt4j8hp"
      },
      "source": [
        "### Utilities"
      ]
    },
    {
      "cell_type": "code",
      "execution_count": 59,
      "metadata": {
        "id": "L3y0yGFYiWRI"
      },
      "outputs": [],
      "source": [
        "!pip install -q lucid>=0.2.3"
      ]
    },
    {
      "cell_type": "code",
      "execution_count": 60,
      "metadata": {
        "colab": {
          "base_uri": "https://localhost:8080/"
        },
        "id": "YXv13t34XX7o",
        "outputId": "2f4fb5e3-98b3-4a4a-8c43-18df2859aa44"
      },
      "outputs": [
        {
          "name": "stdout",
          "output_type": "stream",
          "text": [
            "b'4.6.0 NVIDIA 510.47.03'\n",
            "b'NVIDIA Corporation'\n"
          ]
        }
      ],
      "source": [
        "import numpy as np\n",
        "\n",
        "import ctypes.util\n",
        "from lucid.misc.gl.glcontext import create_opengl_context\n",
        "\n",
        "# Now it's safe to import OpenGL and EGL functions\n",
        "import OpenGL.GL as gl\n",
        "from OpenGL.GLU import *\n",
        "import random\n",
        "\n",
        "# create_opengl_context() creates GL context that is attached to an\n",
        "# offscreen surface of specified size. Note that rendering to buffers\n",
        "# of different size and format is still possible with OpenGL Framebuffers.\n",
        "#\n",
        "# Users are expected to directly use EGL calls in case more advanced\n",
        "# context management is required.\n",
        "WIDTH, HEIGHT = 800,600\n",
        "create_opengl_context((WIDTH, HEIGHT))\n",
        "    \n",
        "# OpenGL context is available here.\n",
        "\n",
        "print(gl.glGetString(gl.GL_VERSION))\n",
        "print(gl.glGetString(gl.GL_VENDOR)) \n",
        "#print(gl.glGetString(gl.GL_EXTENSIONS))"
      ]
    },
    {
      "cell_type": "code",
      "execution_count": 61,
      "metadata": {
        "id": "ANi7Wf-hbL9Y"
      },
      "outputs": [],
      "source": [
        "# Custom Functions\n",
        "\n",
        "def addVertex(x, y):\n",
        "    gl.glVertex2f(x/(WIDTH/2), y/(HEIGHT/2))\n",
        "\n",
        "def addColor(r, g, b):\n",
        "    gl.glColor3f(r/255, g/255, b/255)\n",
        "\n",
        "def randomColor():\n",
        "    addColor(random.randint(0, 255), random.randint(0, 255), random.randint(0, 255))\n",
        "\n"
      ]
    },
    {
      "attachments": {},
      "cell_type": "markdown",
      "metadata": {
        "id": "MkU7Pbkjj0uD"
      },
      "source": [
        "### Task 1"
      ]
    },
    {
      "cell_type": "code",
      "execution_count": 62,
      "metadata": {
        "colab": {
          "base_uri": "https://localhost:8080/",
          "height": 617
        },
        "id": "e6JCjyDMyE75",
        "outputId": "65bba62a-1e52-4774-9815-401ccbeeb5e2"
      },
      "outputs": [
        {
          "data": {
            "image/png": "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",
            "text/plain": [
              "<PIL.Image.Image image mode=RGB size=800x600 at 0x7F004C6A3700>"
            ]
          },
          "metadata": {},
          "output_type": "display_data"
        }
      ],
      "source": [
        "# Task 01\n",
        "\n",
        "from IPython.display import display\n",
        "from PIL import Image\n",
        "\n",
        "gl.glClear(gl.GL_COLOR_BUFFER_BIT)\n",
        "gl.glPointSize(5)\n",
        "\n",
        "x = random.sample(range(-396, 396), 51)\n",
        "y = random.sample(range(-296, 296), 51)\n",
        "\n",
        "for i in range(50):\n",
        "    gl.glBegin(gl.GL_POINTS)\n",
        "    randomColor()\n",
        "    addVertex(x[i], y[i])\n",
        "    gl.glEnd()\n",
        "\n",
        "img_buf = gl.glReadPixelsub(0, 0, WIDTH, HEIGHT, gl.GL_RGB, gl.GL_UNSIGNED_BYTE)\n",
        "img = np.frombuffer(img_buf,np.uint8).reshape(HEIGHT, WIDTH, 3)[::-1]\n",
        "display(Image.fromarray(img,'RGB'))"
      ]
    },
    {
      "attachments": {},
      "cell_type": "markdown",
      "metadata": {
        "id": "0IX4WwOXkiWy"
      },
      "source": [
        "### Task 2"
      ]
    },
    {
      "cell_type": "code",
      "execution_count": 118,
      "metadata": {
        "colab": {
          "base_uri": "https://localhost:8080/",
          "height": 617
        },
        "id": "evjH-3l5fE3w",
        "outputId": "ae23ebc1-d81e-44ba-9d9f-3db4bcdf0eeb"
      },
      "outputs": [
        {
          "data": {
            "image/png": "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",
            "text/plain": [
              "<PIL.Image.Image image mode=RGB size=800x600 at 0x7F004FDC2490>"
            ]
          },
          "metadata": {},
          "output_type": "display_data"
        }
      ],
      "source": [
        "from IPython.display import display\n",
        "from PIL import Image\n",
        "\n",
        "gl.glClear(gl.GL_COLOR_BUFFER_BIT)\n",
        "\n",
        "gl.glPointSize(800)\n",
        "gl.glBegin(gl.GL_POINTS)\n",
        "addColor(255, 255, 255)\n",
        "addVertex(0,0)\n",
        "gl.glEnd()\n",
        "\n",
        "gl.glPointSize(6)\n",
        "addColor(0, 0, 0)\n",
        "\n",
        "# Draw Triangle\n",
        "gl.glBegin(gl.GL_TRIANGLES)\n",
        "addVertex(-160, 240)\n",
        "addVertex(-320, 90)\n",
        "addVertex(0, 90)\n",
        "gl.glEnd()\n",
        "\n",
        "# Draw Body\n",
        "gl.glLineWidth(5)\n",
        "gl.glBegin(gl.GL_LINES)\n",
        "\n",
        "addVertex(-318, 90)     #t2\n",
        "addVertex(-318, -120)   #s1\n",
        "\n",
        "addVertex(-318, -120)   #s1\n",
        "addVertex(0, -120)      #s2\n",
        "\n",
        "addVertex(0, -120)      #s2\n",
        "addVertex(0, 90)        #t3\n",
        "\n",
        "addVertex(0, -120)      #s2\n",
        "addVertex(240, 0)       #r3\n",
        "\n",
        "addVertex(240, 0)       #r3\n",
        "addVertex(240, 120)     #r2\n",
        "\n",
        "addVertex(0, 90)        #t3\n",
        "addVertex(240, 120)     #r2\n",
        "\n",
        "addVertex(-160, 240)    #t1\n",
        "addVertex(160, 210)     #r1\n",
        "\n",
        "addVertex(160, 210)     #r1\n",
        "addVertex(240, 120)     #r2\n",
        "\n",
        "addVertex(-280, 50)     #w1\n",
        "addVertex(-200, 50)     #w2\n",
        "\n",
        "addVertex(-200, 50)     #w2\n",
        "addVertex(-200, -10)    #w4\n",
        "\n",
        "addVertex(-200, -10)    #w4\n",
        "addVertex(-280, -10)    #w3\n",
        "\n",
        "addVertex(-280, -10)    #w3\n",
        "addVertex(-280, 50)     #w1\n",
        "\n",
        "addVertex(-120, 50)     #w5\n",
        "addVertex(-40, 50)      #w6\n",
        "\n",
        "addVertex(-120, 50)     #w5\n",
        "addVertex(-120, -10)    #w7\n",
        "\n",
        "addVertex(-40, 50)      #w6\n",
        "addVertex(-40, -10)     #w8\n",
        "\n",
        "addVertex(-40, -10)     #w8\n",
        "addVertex(-120, -10)    #w7\n",
        "\n",
        "addVertex(-200, -120)   #d1\n",
        "addVertex(-200, -35)    #d2\n",
        "\n",
        "addVertex(-200, -35)    #d2\n",
        "addVertex(-120, -35)    #d3\n",
        "\n",
        "addVertex(-120, -35)    #d3\n",
        "addVertex(-120, -120)   #d4\n",
        "\n",
        "addVertex(-200, -120)   #d1\n",
        "addVertex(-120, -120)   #d4\n",
        "\n",
        "gl.glEnd()\n",
        "\n",
        "gl.glBegin(gl.GL_POINTS)\n",
        "addVertex(-135, -80)\n",
        "gl.glEnd()\n",
        "\n",
        "img_buf = gl.glReadPixelsub(0, 0, WIDTH, HEIGHT, gl.GL_RGB, gl.GL_UNSIGNED_BYTE)\n",
        "img = np.frombuffer(img_buf,np.uint8).reshape(HEIGHT, WIDTH, 3)[::-1]\n",
        "display(Image.fromarray(img,'RGB'))"
      ]
    },
    {
      "cell_type": "markdown",
      "metadata": {
        "id": "LpUgE_NZz_sH"
      },
      "source": [
        "###Task 3"
      ]
    },
    {
      "cell_type": "code",
      "execution_count": 119,
      "metadata": {
        "colab": {
          "base_uri": "https://localhost:8080/",
          "height": 617
        },
        "id": "UeMpQDDHz-MG",
        "outputId": "54df4876-71b4-4e43-825f-df3e6d689399"
      },
      "outputs": [
        {
          "data": {
            "image/png": "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",
            "text/plain": [
              "<PIL.Image.Image image mode=RGB size=800x600 at 0x7F004B5703D0>"
            ]
          },
          "metadata": {},
          "output_type": "display_data"
        }
      ],
      "source": [
        "# Task 3\n",
        "\n",
        "from IPython.display import display\n",
        "from PIL import Image\n",
        "\n",
        "gl.glClear(gl.GL_COLOR_BUFFER_BIT)\n",
        "gl.glPointSize(1000)\n",
        "gl.glBegin(gl.GL_POINTS)\n",
        "addColor(255, 255, 255)\n",
        "addVertex(0,0)\n",
        "gl.glEnd()\n",
        "\n",
        "x = [-350, -290, -250, -190, -150, -90, -50, 10, 50, 90, 150, 190, 250, 290, 350]\n",
        "y = [90, 0, -90]\n",
        "\n",
        "gl.glLineWidth(20)\n",
        "\n",
        "addColor(217, 74, 52)\n",
        "gl.glBegin(gl.GL_LINES)\n",
        "# Draw 2\n",
        "addVertex(x[0], y[0])\n",
        "addVertex(x[1], y[0])\n",
        "\n",
        "addVertex(x[1], y[0])\n",
        "addVertex(x[1], y[1])\n",
        "\n",
        "addVertex(x[1], y[1])\n",
        "addVertex(x[0], y[1])\n",
        "\n",
        "addVertex(x[0], y[1])\n",
        "addVertex(x[0], y[2])\n",
        "\n",
        "addVertex(x[0], y[2])\n",
        "addVertex(x[1], y[2])\n",
        "\n",
        "gl.glEnd()\n",
        "\n",
        "addColor(219, 194, 79)\n",
        "gl.glBegin(gl.GL_LINES)\n",
        "# Draw 0\n",
        "addVertex(x[2], y[0])\n",
        "addVertex(x[3], y[0])\n",
        "\n",
        "addVertex(x[3], y[0])\n",
        "addVertex(x[3], y[2])\n",
        "\n",
        "addVertex(x[3], y[2])\n",
        "addVertex(x[2], y[2])\n",
        "\n",
        "addVertex(x[2], y[2])\n",
        "addVertex(x[2], y[0])\n",
        "\n",
        "gl.glEnd()\n",
        "\n",
        "addColor(180, 222, 13)\n",
        "gl.glBegin(gl.GL_LINES)\n",
        "# Draw 4\n",
        "addVertex(x[11], y[0])\n",
        "addVertex(x[11], y[1])\n",
        "\n",
        "addVertex(x[11], y[1])\n",
        "addVertex(x[12], y[1])\n",
        "\n",
        "addVertex(x[12], y[0])\n",
        "addVertex(x[12], y[2])\n",
        "\n",
        "gl.glEnd()\n",
        "\n",
        "addColor(45, 237, 141)\n",
        "gl.glBegin(gl.GL_LINES)\n",
        "# Draw 0\n",
        "addVertex(x[6], y[0])\n",
        "addVertex(x[7], y[0])\n",
        "\n",
        "addVertex(x[7], y[0])\n",
        "addVertex(x[7], y[2])\n",
        "\n",
        "addVertex(x[7], y[2])\n",
        "addVertex(x[6], y[2])\n",
        "\n",
        "addVertex(x[6], y[2])\n",
        "addVertex(x[6], y[0])\n",
        "\n",
        "gl.glEnd()\n",
        "\n",
        "addColor(9, 219, 184)\n",
        "gl.glBegin(gl.GL_LINES)\n",
        "# Draw 1\n",
        "addVertex(x[8], y[0])\n",
        "addVertex(x[8], y[2])\n",
        "\n",
        "gl.glEnd()\n",
        "\n",
        "addColor(21, 147, 189)\n",
        "gl.glBegin(gl.GL_LINES)\n",
        "# Draw 0\n",
        "addVertex(x[9], y[0])\n",
        "addVertex(x[10], y[0])\n",
        "\n",
        "addVertex(x[10], y[0])\n",
        "addVertex(x[10], y[2])\n",
        "\n",
        "addVertex(x[10], y[2])\n",
        "addVertex(x[9], y[2])\n",
        "\n",
        "addVertex(x[9], y[2])\n",
        "addVertex(x[9], y[0])\n",
        "\n",
        "gl.glEnd()\n",
        "\n",
        "addColor(140, 94, 224)\n",
        "gl.glBegin(gl.GL_LINES)\n",
        "# Draw 3\n",
        "addVertex(x[4], y[0])\n",
        "addVertex(x[5], y[0])\n",
        "\n",
        "addVertex(x[5], y[0])\n",
        "addVertex(x[5], y[2])\n",
        "\n",
        "addVertex(x[5], y[1])\n",
        "addVertex(x[4], y[1])\n",
        "\n",
        "addVertex(x[5], y[2])\n",
        "addVertex(x[4], y[2])\n",
        "\n",
        "gl.glEnd()\n",
        "\n",
        "addColor(211, 94, 224)\n",
        "gl.glBegin(gl.GL_LINES)\n",
        "# Draw 9\n",
        "addVertex(x[13], y[0])\n",
        "addVertex(x[14], y[0])\n",
        "\n",
        "addVertex(x[14], y[0])\n",
        "addVertex(x[14], y[2])\n",
        "\n",
        "addVertex(x[14], y[1])\n",
        "addVertex(x[13], y[1])\n",
        "\n",
        "addVertex(x[14], y[2])\n",
        "addVertex(x[13], y[2])\n",
        "\n",
        "addVertex(x[13], y[0])\n",
        "addVertex(x[13], y[1])\n",
        "\n",
        "gl.glEnd()\n",
        "\n",
        "\n",
        "img_buf = gl.glReadPixelsub(0, 0, WIDTH, HEIGHT, gl.GL_RGB, gl.GL_UNSIGNED_BYTE)\n",
        "img = np.frombuffer(img_buf,np.uint8).reshape(HEIGHT, WIDTH, 3)[::-1]\n",
        "display(Image.fromarray(img,'RGB'))"
      ]
    }
  ],
  },
  "nbformat": 4,
  "nbformat_minor": 0
}
