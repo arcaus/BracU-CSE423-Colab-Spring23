{
  "nbformat": 4,
  "nbformat_minor": 0,
  "metadata": {
    "colab": {
      "provenance": []
    },
    "kernelspec": {
      "name": "python3",
      "display_name": "Python 3"
    },
    "language_info": {
      "name": "python"
    },
    "accelerator": "GPU"
  },
  "cells": [
    {
      "cell_type": "markdown",
      "source": [
        "### Utilities"
      ],
      "metadata": {
        "id": "jUuVqtt4j8hp"
      }
    },
    {
      "cell_type": "code",
      "source": [
        "!pip install -q lucid>=0.2.3"
      ],
      "metadata": {
        "id": "L3y0yGFYiWRI"
      },
      "execution_count": null,
      "outputs": []
    },
    {
      "cell_type": "code",
      "source": [
        "import numpy as np\n",
        "\n",
        "import ctypes.util\n",
        "from lucid.misc.gl.glcontext import create_opengl_context\n",
        "\n",
        "# Now it's safe to import OpenGL and EGL functions\n",
        "import OpenGL.GL as gl\n",
        "from OpenGL.GLU import *\n",
        "import random\n",
        "\n",
        "# create_opengl_context() creates GL context that is attached to an\n",
        "# offscreen surface of specified size. Note that rendering to buffers\n",
        "# of different size and format is still possible with OpenGL Framebuffers.\n",
        "#\n",
        "# Users are expected to directly use EGL calls in case more advanced\n",
        "# context management is required.\n",
        "WIDTH, HEIGHT = 800,600\n",
        "create_opengl_context((WIDTH, HEIGHT))\n",
        "    \n",
        "# OpenGL context is available here.\n",
        "\n",
        "print(gl.glGetString(gl.GL_VERSION))\n",
        "print(gl.glGetString(gl.GL_VENDOR)) \n",
        "#print(gl.glGetString(gl.GL_EXTENSIONS))"
      ],
      "metadata": {
        "id": "YXv13t34XX7o",
        "colab": {
          "base_uri": "https://localhost:8080/"
        },
        "outputId": "1ecebda7-f08c-4078-a358-64a11d696aa9"
      },
      "execution_count": null,
      "outputs": [
        {
          "output_type": "stream",
          "name": "stdout",
          "text": [
            "b'4.4.0 NVIDIA 0000.00'\n",
            "b'NVIDIA Corporation'\n"
          ]
        }
      ]
    },
    {
      "cell_type": "code",
      "source": [
        "# Custom Functions\n",
        "\n",
        "def addVertex(x, y):\n",
        "    gl.glVertex2f(x/(WIDTH/2), y/(HEIGHT/2))\n",
        "\n",
        "def addColor(r, g, b):\n",
        "    gl.glColor3f(r/255, g/255, b/255)\n",
        "\n",
        "def randomColor():\n",
        "    addColor(random.randint(1, 254), random.randint(1, 254), random.randint(1, 254))\n"
      ],
      "metadata": {
        "id": "ANi7Wf-hbL9Y"
      },
      "execution_count": null,
      "outputs": []
    },
    {
      "cell_type": "markdown",
      "source": [
        "### Task 1"
      ],
      "metadata": {
        "id": "MkU7Pbkjj0uD"
      }
    },
    {
      "cell_type": "code",
      "source": [
        "# Task 01\n",
        "\n",
        "from IPython.display import display\n",
        "from PIL import Image\n",
        "\n",
        "gl.glClear(gl.GL_COLOR_BUFFER_BIT)\n",
        "gl.glPointSize(5)\n",
        "\n",
        "x = random.sample(range(-396, 396), 51)\n",
        "y = random.sample(range(-296, 296), 51)\n",
        "\n",
        "gl.glBegin(gl.GL_POINTS)\n",
        "for i in range(50):\n",
        "    randomColor()\n",
        "    addVertex(x[i], y[i])\n",
        "gl.glEnd()\n",
        "\n",
        "img_buf = gl.glReadPixelsub(0, 0, WIDTH, HEIGHT, gl.GL_RGB, gl.GL_UNSIGNED_BYTE)\n",
        "img = np.frombuffer(img_buf,np.uint8).reshape(HEIGHT, WIDTH, 3)[::-1]\n",
        "display(Image.fromarray(img,'RGB'))"
      ],
      "metadata": {
        "colab": {
          "base_uri": "https://localhost:8080/",
          "height": 617
        },
        "id": "e6JCjyDMyE75",
        "outputId": "70553146-a780-4078-ad6a-264cdc1bf5e4"
      },
      "execution_count": null,
      "outputs": [
        {
          "output_type": "display_data",
          "data": {
            "text/plain": [
              "<PIL.Image.Image image mode=RGB size=800x600 at 0x7F19A9F92640>"
            ],
            "image/png": "[encoded data removed]"
          },
          "metadata": {}
        }
      ]
    },
    {
      "cell_type": "markdown",
      "source": [
        "### Task 2"
      ],
      "metadata": {
        "id": "0IX4WwOXkiWy"
      }
    },
    {
      "cell_type": "code",
      "source": [
        "# Task 2\n",
        "\n",
        "from IPython.display import display\n",
        "from PIL import Image\n",
        "\n",
        "gl.glClear(gl.GL_COLOR_BUFFER_BIT)\n",
        "gl.glPointSize(800)\n",
        "\n",
        "gl.glBegin(gl.GL_POINTS)\n",
        "addColor(255, 255, 255)\n",
        "addVertex(0,0)\n",
        "gl.glEnd()\n",
        "\n",
        "gl.glPointSize(6)\n",
        "addColor(0, 0, 0)\n",
        "\n",
        "# Draw Triangle\n",
        "gl.glBegin(gl.GL_TRIANGLES)\n",
        "addVertex(-160, 240)\n",
        "addVertex(-320, 90)\n",
        "addVertex(0, 90)\n",
        "gl.glEnd()\n",
        "\n",
        "# Draw Body\n",
        "gl.glLineWidth(5)\n",
        "gl.glBegin(gl.GL_LINES)\n",
        "\n",
        "addVertex(-318, 90)     #t2\n",
        "addVertex(-318, -120)   #s1\n",
        "\n",
        "addVertex(-318, -120)   #s1\n",
        "addVertex(0, -120)      #s2\n",
        "\n",
        "addVertex(0, -120)      #s2\n",
        "addVertex(0, 90)        #t3\n",
        "\n",
        "addVertex(0, -120)      #s2\n",
        "addVertex(240, 0)       #r3\n",
        "\n",
        "addVertex(240, 0)       #r3\n",
        "addVertex(240, 120)     #r2\n",
        "\n",
        "addVertex(0, 90)        #t3\n",
        "addVertex(240, 120)     #r2\n",
        "\n",
        "addVertex(-160, 240)    #t1\n",
        "addVertex(160, 210)     #r1\n",
        "\n",
        "addVertex(160, 210)     #r1\n",
        "addVertex(240, 120)     #r2\n",
        "\n",
        "addVertex(-280, 50)     #w1\n",
        "addVertex(-200, 50)     #w2\n",
        "\n",
        "addVertex(-200, 50)     #w2\n",
        "addVertex(-200, -10)    #w4\n",
        "\n",
        "addVertex(-200, -10)    #w4\n",
        "addVertex(-280, -10)    #w3\n",
        "\n",
        "addVertex(-280, -10)    #w3\n",
        "addVertex(-280, 50)     #w1\n",
        "\n",
        "addVertex(-120, 50)     #w5\n",
        "addVertex(-40, 50)      #w6\n",
        "\n",
        "addVertex(-120, 50)     #w5\n",
        "addVertex(-120, -10)    #w7\n",
        "\n",
        "addVertex(-40, 50)      #w6\n",
        "addVertex(-40, -10)     #w8\n",
        "\n",
        "addVertex(-40, -10)     #w8\n",
        "addVertex(-120, -10)    #w7\n",
        "\n",
        "addVertex(-200, -120)   #d1\n",
        "addVertex(-200, -35)    #d2\n",
        "\n",
        "addVertex(-200, -35)    #d2\n",
        "addVertex(-120, -35)    #d3\n",
        "\n",
        "addVertex(-120, -35)    #d3\n",
        "addVertex(-120, -120)   #d4\n",
        "\n",
        "addVertex(-200, -120)   #d1\n",
        "addVertex(-120, -120)   #d4\n",
        "\n",
        "gl.glEnd()\n",
        "\n",
        "gl.glBegin(gl.GL_POINTS)\n",
        "addVertex(-135, -80)\n",
        "gl.glEnd()\n",
        "\n",
        "img_buf = gl.glReadPixelsub(0, 0, WIDTH, HEIGHT, gl.GL_RGB, gl.GL_UNSIGNED_BYTE)\n",
        "img = np.frombuffer(img_buf,np.uint8).reshape(HEIGHT, WIDTH, 3)[::-1]\n",
        "display(Image.fromarray(img,'RGB'))"
      ],
      "metadata": {
        "id": "evjH-3l5fE3w",
        "colab": {
          "base_uri": "https://localhost:8080/",
          "height": 617
        },
        "outputId": "2ae8a055-68f3-47c8-de23-3e72be0081b5"
      },
      "execution_count": null,
      "outputs": [
        {
          "output_type": "display_data",
          "data": {
            "text/plain": [
              "<PIL.Image.Image image mode=RGB size=800x600 at 0x7F19C03B25E0>"
            ],
            "image/png": "[encoded data removed]"
          },
          "metadata": {}
        }
      ]
    },
    {
      "cell_type": "markdown",
      "source": [
        "###Task 3"
      ],
      "metadata": {
        "id": "LpUgE_NZz_sH"
      }
    },
    {
      "cell_type": "code",
      "source": [
        "# Task 3\n",
        "\n",
        "from IPython.display import display\n",
        "from PIL import Image\n",
        "\n",
        "gl.glClear(gl.GL_COLOR_BUFFER_BIT)\n",
        "gl.glPointSize(1000)\n",
        "gl.glBegin(gl.GL_POINTS)\n",
        "addColor(255, 255, 255)\n",
        "addVertex(0,0)\n",
        "gl.glEnd()\n",
        "\n",
        "x = [-350, -290, -250, -190, -150, -90, -50, 10, 50, 90, 150, 190, 250, 290, 350]\n",
        "y = [90, 0, -90]\n",
        "\n",
        "gl.glLineWidth(20)\n",
        "\n",
        "addColor(217, 74, 52)\n",
        "gl.glBegin(gl.GL_LINES)\n",
        "# Draw 2\n",
        "addVertex(x[0], y[0])\n",
        "addVertex(x[1], y[0])\n",
        "\n",
        "addVertex(x[1], y[0])\n",
        "addVertex(x[1], y[1])\n",
        "\n",
        "addVertex(x[1], y[1])\n",
        "addVertex(x[0], y[1])\n",
        "\n",
        "addVertex(x[0], y[1])\n",
        "addVertex(x[0], y[2])\n",
        "\n",
        "addVertex(x[0], y[2])\n",
        "addVertex(x[1], y[2])\n",
        "\n",
        "gl.glEnd()\n",
        "\n",
        "addColor(219, 194, 79)\n",
        "gl.glBegin(gl.GL_LINES)\n",
        "# Draw 0\n",
        "addVertex(x[2], y[0])\n",
        "addVertex(x[3], y[0])\n",
        "\n",
        "addVertex(x[3], y[0])\n",
        "addVertex(x[3], y[2])\n",
        "\n",
        "addVertex(x[3], y[2])\n",
        "addVertex(x[2], y[2])\n",
        "\n",
        "addVertex(x[2], y[2])\n",
        "addVertex(x[2], y[0])\n",
        "\n",
        "gl.glEnd()\n",
        "\n",
        "addColor(180, 222, 13)\n",
        "gl.glBegin(gl.GL_LINES)\n",
        "# Draw 3\n",
        "addVertex(x[4], y[0])\n",
        "addVertex(x[5], y[0])\n",
        "\n",
        "addVertex(x[5], y[0])\n",
        "addVertex(x[5], y[2])\n",
        "\n",
        "addVertex(x[5], y[1])\n",
        "addVertex(x[4], y[1])\n",
        "\n",
        "addVertex(x[5], y[2])\n",
        "addVertex(x[4], y[2])\n",
        "\n",
        "gl.glEnd()\n",
        "\n",
        "addColor(211, 94, 224)\n",
        "gl.glBegin(gl.GL_LINES)\n",
        "# Draw 4\n",
        "addVertex(x[11], y[0])\n",
        "addVertex(x[11], y[1])\n",
        "\n",
        "addVertex(x[11], y[1])\n",
        "addVertex(x[12], y[1])\n",
        "\n",
        "addVertex(x[12], y[0])\n",
        "addVertex(x[12], y[2])\n",
        "\n",
        "gl.glEnd()\n",
        "\n",
        "addColor(140, 94, 224)\n",
        "gl.glBegin(gl.GL_LINES)\n",
        "# Draw 9\n",
        "addVertex(x[13], y[0])\n",
        "addVertex(x[14], y[0])\n",
        "\n",
        "addVertex(x[14], y[0])\n",
        "addVertex(x[14], y[2])\n",
        "\n",
        "addVertex(x[14], y[1])\n",
        "addVertex(x[13], y[1])\n",
        "\n",
        "addVertex(x[14], y[2])\n",
        "addVertex(x[13], y[2])\n",
        "\n",
        "addVertex(x[13], y[0])\n",
        "addVertex(x[13], y[1])\n",
        "\n",
        "gl.glEnd()\n",
        "\n",
        "addColor(45, 237, 141)\n",
        "gl.glBegin(gl.GL_LINES)\n",
        "# Draw 0\n",
        "addVertex(x[6], y[0])\n",
        "addVertex(x[7], y[0])\n",
        "\n",
        "addVertex(x[7], y[0])\n",
        "addVertex(x[7], y[2])\n",
        "\n",
        "addVertex(x[7], y[2])\n",
        "addVertex(x[6], y[2])\n",
        "\n",
        "addVertex(x[6], y[2])\n",
        "addVertex(x[6], y[0])\n",
        "\n",
        "gl.glEnd()\n",
        "\n",
        "addColor(9, 219, 184)\n",
        "gl.glBegin(gl.GL_LINES)\n",
        "# Draw 1\n",
        "addVertex(x[8], y[0])\n",
        "addVertex(x[8], y[2])\n",
        "\n",
        "gl.glEnd()\n",
        "\n",
        "addColor(21, 147, 189)\n",
        "gl.glBegin(gl.GL_LINES)\n",
        "# Draw 0\n",
        "addVertex(x[9], y[0])\n",
        "addVertex(x[10], y[0])\n",
        "\n",
        "addVertex(x[10], y[0])\n",
        "addVertex(x[10], y[2])\n",
        "\n",
        "addVertex(x[10], y[2])\n",
        "addVertex(x[9], y[2])\n",
        "\n",
        "addVertex(x[9], y[2])\n",
        "addVertex(x[9], y[0])\n",
        "\n",
        "gl.glEnd()\n",
        "\n",
        "\n",
        "\n",
        "img_buf = gl.glReadPixelsub(0, 0, WIDTH, HEIGHT, gl.GL_RGB, gl.GL_UNSIGNED_BYTE)\n",
        "img = np.frombuffer(img_buf,np.uint8).reshape(HEIGHT, WIDTH, 3)[::-1]\n",
        "display(Image.fromarray(img,'RGB'))"
      ],
      "metadata": {
        "id": "UeMpQDDHz-MG"
      },
      "execution_count": null,
      "outputs": []
    }
  ]
}
