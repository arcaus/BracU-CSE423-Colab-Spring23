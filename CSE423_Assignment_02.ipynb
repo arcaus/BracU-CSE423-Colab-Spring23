{
  "cells": [
    {
      "cell_type": "markdown",
      "metadata": {
        "id": "jUuVqtt4j8hp"
      },
      "source": [
        "### Utilities"
      ]
    },
    {
      "cell_type": "code",
      "execution_count": null,
      "metadata": {
        "id": "L3y0yGFYiWRI"
      },
      "outputs": [],
      "source": [
        "!pip install -q lucid>=0.2.3"
      ]
    },
    {
      "cell_type": "code",
      "execution_count": null,
      "metadata": {
        "colab": {
          "base_uri": "https://localhost:8080/"
        },
        "id": "YXv13t34XX7o",
        "outputId": "5842b58b-32bf-4fff-ac50-a074cb027c51"
      },
      "outputs": [
        {
          "output_type": "stream",
          "name": "stdout",
          "text": [
            "b'4.4.0 NVIDIA 000.00'\n",
            "b'NVIDIA Corporation'\n"
          ]
        }
      ],
      "source": [
        "import numpy as np\n",
        "import ctypes.util\n",
        "from lucid.misc.gl.glcontext import create_opengl_context\n",
        "\n",
        "# Now it's safe to import OpenGL and EGL functions\n",
        "import OpenGL.GL as gl\n",
        "from OpenGL.GLU import *\n",
        "\n",
        "# create_opengl_context() creates GL context that is attached to an\n",
        "# offscreen surface of specified size. Note that rendering to buffers\n",
        "# of different size and format is still possible with OpenGL Framebuffers.\n",
        "#\n",
        "# Users are expected to directly use EGL calls in case more advanced\n",
        "# context management is required.\n",
        "WIDTH, HEIGHT = 800,600\n",
        "create_opengl_context((WIDTH, HEIGHT))\n",
        "    \n",
        "# OpenGL context is available here.\n",
        "\n",
        "print(gl.glGetString(gl.GL_VERSION))\n",
        "print(gl.glGetString(gl.GL_VENDOR)) \n",
        "#print(gl.glGetString(gl.GL_EXTENSIONS))"
      ]
    },
    {
      "cell_type": "code",
      "execution_count": null,
      "metadata": {
        "id": "ANi7Wf-hbL9Y"
      },
      "outputs": [],
      "source": [
        "# Custom Functions\n",
        "\n",
        "def addVertex(x, y):\n",
        "    gl.glVertex2f(x/(WIDTH/2), y/(HEIGHT/2))\n",
        "\n",
        "def addColor(r, g, b):\n",
        "    gl.glColor3f(r/255, g/255, b/255)\n"
      ]
    },
    {
      "cell_type": "markdown",
      "metadata": {
        "id": "wy0_d2eU150Y"
      },
      "source": [
        "## Draw ID"
      ]
    },
    {
      "cell_type": "markdown",
      "metadata": {
        "id": "oKc-O0tl2I4N"
      },
      "source": [
        "### Find Zone"
      ]
    },
    {
      "cell_type": "code",
      "execution_count": null,
      "metadata": {
        "id": "-m4k86kb19zO"
      },
      "outputs": [],
      "source": [
        "def findZone(x1, y1, x2, y2):\n",
        "    dx = x2 - x1\n",
        "    dy = y2 - y1\n",
        "\n",
        "    if abs(dx) > abs(dy):\n",
        "        if dx >= 0 and dy >= 0:\n",
        "            return 0\n",
        "        elif dx <= 0 and dy >= 0:\n",
        "            return 3\n",
        "        elif dx <= 0 and dy <= 0:\n",
        "            return 4\n",
        "        elif dx >= 0 and dy <= 0:\n",
        "            return 7\n",
        "    else:\n",
        "        if dx >= 0 and dy >= 0:\n",
        "            return 1\n",
        "        elif dx <= 0 and dy >= 0:\n",
        "            return 2\n",
        "        elif dx <= 0 and dy <= 0:\n",
        "            return 5\n",
        "        elif dx >= 0 and dy <= 0:\n",
        "            return 6\n"
      ]
    },
    {
      "cell_type": "markdown",
      "metadata": {
        "id": "H0LmC-Tv2R1N"
      },
      "source": [
        "### Convert to Zone Zero"
      ]
    },
    {
      "cell_type": "code",
      "execution_count": null,
      "metadata": {
        "id": "8jwqzkja2Vp4"
      },
      "outputs": [],
      "source": [
        "def convertToZoneZero(x, y, zone):\n",
        "    if zone == 0:\n",
        "        return x, y\n",
        "    elif zone == 1:\n",
        "        return y, x\n",
        "    elif zone == 2:\n",
        "        return -y, x\n",
        "    elif zone == 3:\n",
        "        return -x, y\n",
        "    elif zone == 4:\n",
        "        return -x, -y\n",
        "    elif zone == 5:\n",
        "        return -y, -x\n",
        "    elif zone == 6:\n",
        "        return y, -x\n",
        "    elif zone == 7:\n",
        "        return x, -y\n"
      ]
    },
    {
      "cell_type": "markdown",
      "metadata": {
        "id": "P7fdT5i92cSd"
      },
      "source": [
        "### Convert back to Original Zone"
      ]
    },
    {
      "cell_type": "code",
      "execution_count": null,
      "metadata": {
        "id": "SODyIbhG2b_1"
      },
      "outputs": [],
      "source": [
        "def convertToOriginalZone(x, y, zone):\n",
        "    if zone == 0:\n",
        "        return x, y\n",
        "    elif zone == 1:\n",
        "        return y, x\n",
        "    elif zone == 2:\n",
        "        return y, -x\n",
        "    elif zone == 3:\n",
        "        return -x, y\n",
        "    elif zone == 4:\n",
        "        return -x, -y\n",
        "    elif zone == 5:\n",
        "        return -y, -x\n",
        "    elif zone == 6:\n",
        "        return -y, x\n",
        "    elif zone == 7:\n",
        "        return x, -y\n"
      ]
    },
    {
      "cell_type": "markdown",
      "metadata": {
        "id": "192dxt0i2vFa"
      },
      "source": [
        "### Draw Line using Mid Point Algorithm"
      ]
    },
    {
      "cell_type": "code",
      "execution_count": null,
      "metadata": {
        "id": "V-pi-_8O21dl"
      },
      "outputs": [],
      "source": [
        "def drawLine(x1, y1, x2, y2):\n",
        "    zone = findZone(x1, y1, x2, y2)\n",
        "    x1, y1 = convertToOriginalZone(x1, y1, zone)\n",
        "    x2, y2 = convertToOriginalZone(x2, y2, zone)\n",
        "  \n",
        "    dx = x2 - x1\n",
        "    dy = y2 - y1\n",
        "\n",
        "    d = 2 * dy - dx\n",
        "    dE = 2 * dy\n",
        "    dNE = 2 * (dy - dx)\n",
        "\n",
        "    x = x1\n",
        "    y = y1\n",
        "  \n",
        "    addColor(0, 255, 195)\n",
        "    gl.glPointSize(20)\n",
        "    gl.glBegin(gl.GL_POINTS)\n",
        "\n",
        "    while x < x2:\n",
        "        x += 1\n",
        "        if d < 0:\n",
        "            d += dE\n",
        "        else:\n",
        "            y += 1\n",
        "            d += dNE\n",
        "    \n",
        "        xN, yN = convertToZoneZero(x, y, zone)\n",
        "        addVertex(xN, yN)\n",
        "\n",
        "    gl.glEnd()\n"
      ]
    },
    {
      "cell_type": "markdown",
      "metadata": {
        "id": "dqYWyUqb2-oz"
      },
      "source": [
        "### Draw digits"
      ]
    },
    {
      "cell_type": "code",
      "execution_count": null,
      "metadata": {
        "id": "44hyDeXa2-YL"
      },
      "outputs": [],
      "source": [
        "def drawDigit(num, direction = -1):\n",
        "    x = [80, 160, 320, -80, -160, -320]\n",
        "    y = [60, 120, 240, -60, -120, -240]\n",
        "\n",
        "    # 0\n",
        "    if num == 0:\n",
        "        drawLine(x[0]*direction, y[2], x[2]*direction, y[2])\n",
        "        drawLine(x[0]*direction, y[2], x[0]*direction, y[5])\n",
        "        drawLine(x[2]*direction, y[2], x[2]*direction, y[5])\n",
        "        drawLine(x[0]*direction, y[5], x[2]*direction, y[5])\n",
        "\n",
        "    # 1\n",
        "    elif num == 1:\n",
        "        if direction == 1:\n",
        "            drawLine(x[2], y[2], x[2], y[5])\n",
        "            drawLine(x[0], y[1], x[2], y[2])\n",
        "        else:\n",
        "            drawLine(x[3], y[2], x[3], y[5])\n",
        "            drawLine(x[5], y[1], x[3], y[2])\n",
        "\n",
        "    # 2\n",
        "    elif num == 2:\n",
        "        drawLine(x[0]*direction, y[2], x[2]*direction, y[2])\n",
        "        drawLine(x[2]*direction, 0, x[0]*direction, 0)\n",
        "        drawLine(x[0]*direction, y[5], x[2]*direction, y[5])\n",
        "\n",
        "        if direction == 1:\n",
        "            drawLine(x[0], 0, x[0], y[5])\n",
        "            drawLine(x[2], y[2], x[2], 0)\n",
        "\n",
        "        else:\n",
        "            drawLine(x[3], y[2], x[3], 0)\n",
        "            drawLine(x[5], 0, x[5], y[5])\n",
        "\n",
        "    # 3\n",
        "    elif num == 3:\n",
        "        drawLine(x[0]*direction, y[2], x[2]*direction, y[2])\n",
        "        drawLine(x[0]*direction, y[5], x[2]*direction, y[5])\n",
        "        drawLine(x[0]*direction, 0, x[2]*direction, 0)\n",
        "\n",
        "        if direction == 1:\n",
        "            drawLine(x[2], y[2], x[2], 0)\n",
        "            drawLine(x[2], 0, x[2], y[5])\n",
        "        else:\n",
        "            drawLine(x[3], y[2], x[3], 0)\n",
        "            drawLine(x[3], 0, x[3], y[5])\n",
        "\n",
        "    # 4\n",
        "    elif num == 4:\n",
        "        drawLine(x[2]*direction, 0, x[0]*direction, 0)\n",
        "\n",
        "        if direction == 1:\n",
        "            drawLine(x[2], y[2], x[2], y[5])\n",
        "            drawLine(x[0], 0, x[2], y[2])\n",
        "        else:\n",
        "            drawLine(x[3], y[2], x[3], y[5])\n",
        "            drawLine(x[5], 0, x[3], y[2])\n",
        "\n",
        "    # 5\n",
        "    elif num == 5:\n",
        "        drawLine(x[0]*direction, y[2], x[2]*direction, y[2])\n",
        "        drawLine(x[2]*direction, 0, x[0]*direction, 0)\n",
        "        drawLine(x[0]*direction, y[5], x[2]*direction, y[5])\n",
        "\n",
        "        if direction == 1:\n",
        "            drawLine(x[0], 0, x[0], y[2])\n",
        "            drawLine(x[2], 0, x[2], y[5])\n",
        "        else:\n",
        "            drawLine(x[3], 0, x[3], y[5])\n",
        "            drawLine(x[5], 0, x[5], y[2])\n",
        "\n",
        "    # 6\n",
        "    elif num == 6:\n",
        "        drawLine(x[0]*direction, y[2], x[2]*direction, y[2])\n",
        "        drawLine(x[2]*direction, 0, x[0]*direction, 0)\n",
        "        drawLine(x[0]*direction, y[5], x[2]*direction, y[5])\n",
        "\n",
        "        if direction == 1:\n",
        "            drawLine(x[2], 0, x[2], y[5])\n",
        "            drawLine(x[0], 0, x[0], y[2])\n",
        "            drawLine(x[0], 0, x[0], y[5])\n",
        "        else:\n",
        "            drawLine(x[3], 0, x[3], y[5])\n",
        "            drawLine(x[5], 0, x[5], y[2])\n",
        "            drawLine(x[5], 0, x[5], y[5])\n",
        "\n",
        "    # 7\n",
        "    elif num == 7:\n",
        "        drawLine(x[0]*direction, y[2], x[2]*direction, y[2])\n",
        "\n",
        "        if direction == 1:\n",
        "            drawLine(x[0], y[5], x[2], y[2])\n",
        "        else:\n",
        "            drawLine(x[5], y[5], x[3], y[2])\n",
        "\n",
        "    # 8\n",
        "    elif num == 8:\n",
        "        drawLine(x[0]*direction, y[2], x[2]*direction, y[2])\n",
        "        drawLine(x[0]*direction, y[2], x[0]*direction, y[5])\n",
        "        drawLine(x[2]*direction, y[2], x[2]*direction, y[5])\n",
        "        drawLine(x[0]*direction, y[5], x[2]*direction, y[5])\n",
        "        drawLine(x[0]*direction, 0, x[2]*direction, 0)\n",
        "\n",
        "    # 9\n",
        "    elif num == 9:\n",
        "        drawLine(x[0]*direction, y[2], x[2]*direction, y[2])\n",
        "        drawLine(x[2]*direction, 0, x[0]*direction, 0)\n",
        "        drawLine(x[0]*direction, y[5], x[2]*direction, y[5])\n",
        "\n",
        "        if direction == 1:\n",
        "            drawLine(x[2], y[2], x[2], 0)\n",
        "            drawLine(x[2], 0, x[2], y[5])\n",
        "            drawLine(x[0], 0, x[0], y[2])\n",
        "        else:\n",
        "            drawLine(x[3], y[2], x[3], 0)\n",
        "            drawLine(x[3], 0, x[3], y[5])\n",
        "            drawLine(x[5], 0, x[5], y[2])\n"
      ]
    },
    {
      "cell_type": "markdown",
      "metadata": {
        "id": "VDKFUVCP3OqU"
      },
      "source": [
        "### Driver Code"
      ]
    },
    {
      "cell_type": "code",
      "execution_count": null,
      "metadata": {
        "id": "_Ba66isa3TAH"
      },
      "outputs": [],
      "source": [
        "from IPython.display import display\n",
        "from PIL import Image\n",
        "\n",
        "gl.glClear(gl.GL_COLOR_BUFFER_BIT)\n",
        "\n",
        "stdID = input()\n",
        "\n",
        "if len(stdID) == 8:\n",
        "    drawDigit(int(stdID[-2]))\n",
        "    drawDigit(int(stdID[-1]), 1) # Direction = 1 means right digit\n",
        "\n",
        "    img_buf = gl.glReadPixelsub(0, 0, WIDTH, HEIGHT, gl.GL_RGB, gl.GL_UNSIGNED_BYTE)\n",
        "    img = np.frombuffer(img_buf,np.uint8).reshape(HEIGHT, WIDTH, 3)[::-1]\n",
        "    display(Image.fromarray(img,'RGB'))\n",
        "\n",
        "else:\n",
        "    print(\"Wrong ID\")\n"
      ]
    }
  ],
  "metadata": {
    "accelerator": "GPU",
    "colab": {
      "provenance": []
    },
    "kernelspec": {
      "display_name": "Python 3",
      "name": "python3"
    },
    "language_info": {
      "name": "python"
    }
  },
  "nbformat": 4,
  "nbformat_minor": 0
}
